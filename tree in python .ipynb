{
 "cells": [
  {
   "cell_type": "code",
   "execution_count": 24,
   "id": "bd96d856",
   "metadata": {},
   "outputs": [
    {
     "name": "stdout",
     "output_type": "stream",
     "text": [
      "Tree one is a subtree of tree two\n"
     ]
    }
   ],
   "source": [
    "class TreeNode:\n",
    "    def __init__(self, val=0, left=None, right=None):\n",
    "        self.val = val\n",
    "        self.left = left\n",
    "        self.right = right\n",
    "\n",
    "def is_subtree(tree1, tree2):\n",
    "    if tree1 is None:\n",
    "        return True\n",
    "    if tree2 is None:\n",
    "        return False\n",
    "\n",
    "    if is_identical(tree1, tree2):\n",
    "        return True\n",
    "\n",
    "    return is_subtree(tree1, tree2.left) or is_subtree(tree1, tree2.right)\n",
    "\n",
    "def is_identical(node1, node2):\n",
    "    if node1 is None and node2 is None:\n",
    "        return True\n",
    "    if node1 is None or node2 is None:\n",
    "        return False\n",
    "\n",
    "    return (\n",
    "        node1.val == node2.val and\n",
    "        is_identical(node1.left, node2.left) and\n",
    "        is_identical(node1.right, node2.right)\n",
    "    )\n",
    "\n",
    "tree1 = TreeNode(10)\n",
    "tree1.left = TreeNode(4)\n",
    "tree1.right = TreeNode(6)\n",
    "tree1.left.right = TreeNode(30)\n",
    "\n",
    "tree2 = TreeNode(26)\n",
    "tree2.left = TreeNode(10)\n",
    "tree2.right = TreeNode(3)\n",
    "tree2.left.left = TreeNode(4)\n",
    "tree2.left.right = TreeNode(6)\n",
    "tree2.left.left.right = TreeNode(30)\n",
    "tree2.right.right = TreeNode(3)\n",
    "\n",
    "if is_subtree(tree1, tree2):\n",
    "    print(\"Tree one is a subtree of tree two\")\n",
    "else:\n",
    "    print(\"Tree one is not a subtree of tree two\")\n"
   ]
  },
  {
   "cell_type": "code",
   "execution_count": null,
   "id": "f5146262",
   "metadata": {},
   "outputs": [],
   "source": []
  },
  {
   "cell_type": "code",
   "execution_count": null,
   "id": "78984219",
   "metadata": {},
   "outputs": [],
   "source": []
  }
 ],
 "metadata": {
  "kernelspec": {
   "display_name": "Python 3 (ipykernel)",
   "language": "python",
   "name": "python3"
  },
  "language_info": {
   "codemirror_mode": {
    "name": "ipython",
    "version": 3
   },
   "file_extension": ".py",
   "mimetype": "text/x-python",
   "name": "python",
   "nbconvert_exporter": "python",
   "pygments_lexer": "ipython3",
   "version": "3.10.9"
  }
 },
 "nbformat": 4,
 "nbformat_minor": 5
}
