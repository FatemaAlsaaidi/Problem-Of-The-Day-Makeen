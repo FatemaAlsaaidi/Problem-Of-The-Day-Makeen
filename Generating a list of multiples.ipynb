{
 "cells": [
  {
   "cell_type": "code",
   "execution_count": 8,
   "id": "96b8b1ed",
   "metadata": {},
   "outputs": [
    {
     "name": "stdout",
     "output_type": "stream",
     "text": [
      "[3, 6, 9, 12, 15, 18, 21]\n",
      "[10, 20, 30, 40]\n"
     ]
    }
   ],
   "source": [
    "def multiples(num, length):\n",
    "    result = []\n",
    "    for i in range(1, length+1):\n",
    "        result.append(num * i)\n",
    "    return result\n",
    "\n",
    "print (multiples(3,7))\n",
    "print (multiples(10,4))"
   ]
  },
  {
   "cell_type": "code",
   "execution_count": null,
   "id": "73d58c17",
   "metadata": {},
   "outputs": [],
   "source": []
  }
 ],
 "metadata": {
  "kernelspec": {
   "display_name": "Python 3 (ipykernel)",
   "language": "python",
   "name": "python3"
  },
  "language_info": {
   "codemirror_mode": {
    "name": "ipython",
    "version": 3
   },
   "file_extension": ".py",
   "mimetype": "text/x-python",
   "name": "python",
   "nbconvert_exporter": "python",
   "pygments_lexer": "ipython3",
   "version": "3.10.9"
  }
 },
 "nbformat": 4,
 "nbformat_minor": 5
}
